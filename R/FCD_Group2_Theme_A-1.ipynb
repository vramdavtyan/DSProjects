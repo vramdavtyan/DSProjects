{
 "cells": [
  {
   "cell_type": "markdown",
   "metadata": {},
   "source": [
    "# Study on pollution in the USA, Group A\n",
    "###   Authors:\n",
    "###  Alexandre Baptista 64506\n",
    "###  André Pires 64347\n",
    "###  Vram Davtyan 64691\n",
    "#### date: \"November 2024\"\n"
   ]
  },
  {
   "cell_type": "markdown",
   "metadata": {},
   "source": [
    "# Introdution\n",
    "\n",
    "In this assignment, we analyze the air pollution dataset using Principal Component Analysis (PCA) and K-means clustering. The dataset includes air quality and environmental factors from 41 US cities. The goal is dimensionality reduction by creating a new set of uncorrelated variables with maximum variance;\n",
    "\n",
    "# 1. Exploratory Data Analysis\n",
    "\n",
    "The given dataset is already discretized, contaning non-null or blank spaces. It comprises 41 rows and 8 columns. Also the following libraries help visualize the function made, and make functions, there were choosen because are easy and simple to use.\n",
    "\n",
    "### 1.1 Load the necessary libraries"
   ]
  },
  {
   "cell_type": "code",
   "execution_count": null,
   "metadata": {
    "vscode": {
     "languageId": "plaintext"
    }
   },
   "outputs": [],
   "source": [
    "library(dplyr)\n",
    "library(factoextra)\n",
    "library(AMR)"
   ]
  },
  {
   "cell_type": "markdown",
   "metadata": {},
   "source": [
    "### 1.2 Load Dataset"
   ]
  },
  {
   "cell_type": "code",
   "execution_count": null,
   "metadata": {
    "vscode": {
     "languageId": "plaintext"
    }
   },
   "outputs": [],
   "source": [
    "data <- read.csv(\"airpollution.csv\")"
   ]
  },
  {
   "cell_type": "markdown",
   "metadata": {},
   "source": [
    "### 1.3 Descriptive analysis"
   ]
  },
  {
   "cell_type": "code",
   "execution_count": null,
   "metadata": {
    "vscode": {
     "languageId": "plaintext"
    }
   },
   "outputs": [],
   "source": [
    "head(data)\n",
    "str(data)\n",
    "dim(data)"
   ]
  },
  {
   "cell_type": "markdown",
   "metadata": {},
   "source": [
    "### 1.4 Localization measures"
   ]
  },
  {
   "cell_type": "code",
   "execution_count": null,
   "metadata": {
    "vscode": {
     "languageId": "plaintext"
    }
   },
   "outputs": [],
   "source": [
    "summary(data)"
   ]
  },
  {
   "cell_type": "markdown",
   "metadata": {},
   "source": [
    "# 2. Calculation of components"
   ]
  },
  {
   "cell_type": "markdown",
   "metadata": {},
   "source": [
    "The PCA should be done based on the correlation matrix based on the variables description, Localization Measures, and Dispersion Measures previously done because:\n",
    "-   the measures units of the variables are not all the same. Looking at three variables, precip, days and wind, the precip variable is in inches, the variable days is in days, and the variable wind is in miles per hour, which are different measures units.\n",
    "-   the range of variables is big, when looking at the Minimum and the Maximum values of the variables pop and wind as example.\n",
    "-   the Mean of the variables are different, when looking at the mean values of the variables temp and manuf as example.\n",
    "-   the Standard Deviation of the variables have different variances, when looking at the Standard Deviation values of the variables pop and wind as example.\n"
   ]
  },
  {
   "cell_type": "code",
   "execution_count": null,
   "metadata": {
    "vscode": {
     "languageId": "plaintext"
    }
   },
   "outputs": [],
   "source": [
    "# 1) Determine the correlation matrix\n",
    "cor_data <- cor(data[, sapply(data, is.numeric)])\n",
    "cor_data"
   ]
  },
  {
   "cell_type": "markdown",
   "metadata": {},
   "source": [
    "Each principal component (PC) has an associated eigenvalue that quantifies the amount of variance explained by that component. The higher the eigenvalue, the more variance that component captures."
   ]
  },
  {
   "cell_type": "code",
   "execution_count": null,
   "metadata": {
    "vscode": {
     "languageId": "plaintext"
    }
   },
   "outputs": [],
   "source": [
    "# 2) Obtain eigenvalues and eigenvectors\n",
    "eigen_data <- eigen(cor_data)\n",
    "eigen_data"
   ]
  },
  {
   "cell_type": "markdown",
   "metadata": {},
   "source": [
    "As can be seen we have 2 principal components (PC), because according to Kraiser's criterion: the first eigenvalues \\>=1 --\\> Retain the principal components.\n",
    "\n",
    "# 3. Perform PCA\n",
    "\n",
    "The explained varience is demonstrated as the percentage of the total variance explained by each component:\n",
    "\n",
    "-   PC1 explain approximately 39% of the variance.\n",
    "-   PC2 explain approximately 21% of the varience.\n",
    "\n",
    "Together the PC1 and PC2 explain approximately 60% of the total varience, what is a moderate value.\n"
   ]
  },
  {
   "cell_type": "code",
   "execution_count": null,
   "metadata": {
    "vscode": {
     "languageId": "plaintext"
    }
   },
   "outputs": [],
   "source": [
    "numeric_data <- data[, sapply(data, is.numeric)]\n",
    "pca_data <- princomp(numeric_data,cor = TRUE)\n",
    "print(summary(pca_data), loadings = TRUE)"
   ]
  },
  {
   "cell_type": "markdown",
   "metadata": {},
   "source": [
    "The importance of variables in each retained principal component is determined by their loading values, which show the correlation between the original variables and the principal components.\n",
    "\n",
    "-   Loading Values: Indicates how much each variable contributes to the PC. A higher absolute value of a loading indicates that the variable has a stronger influence on that PC.\n",
    "-   Sign of Loadings: The sign (positive or negative) shows the direction of the relationship (e.g., positive loading means the variable increases with the component, while negative loading means the variable decreases with the component).\n",
    "\n",
    "PC1:\n",
    "\n",
    "-   High positive loadings for SO2, temperature, and population, indicate that these variables increase as PC1 increases.\n",
    "-   Negative loadings for precipitation or wind,indicate that these variables decrease as PC1 increases.\n",
    "-   PC1 may be capturing overall urbanization or industrialization.\n",
    "\n",
    "PC2:\n",
    "\n",
    "-   High loadings for precipitation, wind, and temperature.\n",
    "-   PC2 captures more of the environmental factors, like climate, rainfall, and wind conditions, which contrast with industrial factors.\n",
    "\n",
    "# 4. Scree plot\n",
    "\n",
    "The scree plot shows the eigenvalues (variance explained) for each PC.\n"
   ]
  },
  {
   "cell_type": "code",
   "execution_count": null,
   "metadata": {
    "vscode": {
     "languageId": "plaintext"
    }
   },
   "outputs": [],
   "source": [
    "fviz_eig(pca_data)"
   ]
  },
  {
   "cell_type": "markdown",
   "metadata": {},
   "source": [
    "# 5. Identify the variables that contribute more in relation to the component retained"
   ]
  },
  {
   "cell_type": "code",
   "execution_count": null,
   "metadata": {
    "vscode": {
     "languageId": "plaintext"
    }
   },
   "outputs": [],
   "source": [
    "cor(numeric_data,pca_data$scores)\n",
    "ggplot_pca(pca_data)"
   ]
  },
  {
   "cell_type": "markdown",
   "metadata": {},
   "source": [
    "# 6. Elbow method\n",
    "\n",
    "The elbow method suggest the optimal number of clusters (k). Looking for the point where the curve flattens and adding a vertical line to be sure, we obtain the optimal K= 8.\n"
   ]
  },
  {
   "cell_type": "code",
   "execution_count": null,
   "metadata": {
    "vscode": {
     "languageId": "plaintext"
    }
   },
   "outputs": [],
   "source": [
    "# Compute WSS (Within-Cluster Sum of Squares) for different k values\n",
    "data_scaled <- scale(numeric_data)\n",
    "set.seed(123)\n",
    "wss <- sapply(1:10, function(k) {\n",
    "  kmeans(data_scaled, centers = k, nstart = 25)$tot.withinss\n",
    "})\n",
    "# Determine the optimal number of clusters (elbow point)\n",
    "optimal_k <- which.min(diff(diff(wss))) + 1  # Add 1 because we applied two differences\n",
    "# Plot the Elbow Method\n",
    "plot(1:10, wss, type = \"b\", pch = 19, frame = FALSE,\n",
    "     xlab = \"Number of Clusters (k)\",\n",
    "     ylab = \"Total Within-Cluster Sum of Squares\",\n",
    "     main = \"Elbow Method for Optimal Clusters\")\n",
    "# Add a vertical line at the optimal number of clusters\n",
    "abline(v = optimal_k, col = \"red\", lty = 2)\n",
    "# Add a label to indicate the optimal k\n",
    "text(optimal_k, wss[optimal_k], labels = paste(\"Optimal k =\", optimal_k), pos = 4, col = \"red\")\n",
    "\n",
    "# 7. k-means"
   ]
  },
  {
   "cell_type": "markdown",
   "metadata": {},
   "source": [
    "kmeans <- kmeans(numeric_data, 8)\n",
    "kmeans\n",
    "fviz_cluster(kmeans, numeric_data)"
   ]
  },
  {
   "cell_type": "markdown",
   "metadata": {},
   "source": [
    "\n",
    "Observing the plot, each point in the plot represents an individual observation, colored according to its assigned cluster. The shapes of the points represent different clusters, and the shaded areas indicate the convex hulls that enclose the observations for each cluster.\n",
    "\n",
    "## 7.1 Cluster Sizes:\n",
    "\n",
    "-   Cluster 1: 6 observation.\n",
    "-   Cluster 2: 7 observation.\n",
    "-   Cluster 3: 7 observation.\n",
    "-   Cluster 4: 2 observation.\n",
    "-   Cluster 5: 12 observation.\n",
    "-   Cluster 6: 2 observation.\n",
    "-   Cluster 7: 4 observation.\n",
    "-   Cluster 8: 1 observation.\n",
    "\n",
    "## 7.2 Cluster Means:\n",
    "\n",
    "This provides a summary of the average values for each variable within each cluster.\n",
    "\n",
    "## 7.3 Plot Interpretation:\n",
    "\n",
    "-   The plot uses the 2 principal components to reduce dimensionality.\n",
    "-   We can see that cluster 8 (pink) is a distint outlier in terms of pollution (SO2), with very high values compared to the other clusters.\n",
    "\n",
    "## 7.4 Cluster characteristics in the plot:\n",
    "\n",
    "-   Cluster 1 (green) and Cluster 5 (blue) are near the center of the plot, with moderate pollution and moderate temperature, population, and manufacturing levels.\n",
    "-   Cluster 4 (yellow) stands out with high pollution (SO2), representing industrialized regions with large populations.\n",
    "-   Cluster 8 (pink) is an outlier with very high SO2, manufacturing, and population, showing extreme values compared to the other clusters.\n",
    "\n",
    "# 8 Clusters description\n",
    "\n",
    "#### 8.1 Cluster 1 (Red):\n",
    "\n",
    "-   Is the PC1, which indicates a unique positioning compared to other clusters. It's separated from the other clusters in terms of Dim1 and Dim2 that suggest disting patterns in the original data.\n",
    "-   Has high concentration of SO2, manufacturing, and population, with moderated precipitation and wind values. It appears to be an outlier in terms of Dim1.\n",
    "\n",
    "#### 8.2 Cluster 2 (Brown):\n",
    "\n",
    "-   It is in the middle of the plot, showing a mix of data points but generally concentrated around Dim1 and Dim2 axes. It has a moderate to high population and moderate levels of SO2, temp, and precipitation.\n",
    "-   This cluster represents areas with moderate air pollution and moderate temperatures, but with a diverse range of industrial activity.\n",
    "\n",
    "#### 8.3 Cluster 3 (Ligh Green):\n",
    "\n",
    "-   It is located at the positive side of Dim1 and relative lower in Dim2. It tends to have low to moderate values across most features but is grouped tightly, indicating consistent values across this cluster.\n",
    "-   It has lower levels of SO2, temperature, and manufacturing, and are marked by higher precipitation and wind.This could be a rural or less industrialized region with a high focus on environmental factors.\n",
    "\n",
    "#### 8.4 Cluster 4 (Dark Green):\n",
    "\n",
    "-   It is located in the lower right quadrant of the plot, with high Dim1 and low Dim2 values.The points are scattered but still tightly grouped.\n",
    "-   It has higher values for temperature and manufacturing, along with moderate SO2 levels and population density. This could represent urban areas with moderate industrial activity.\n",
    "\n",
    "#### 8.5 Cluster 5 (Cyan):\n",
    "\n",
    "-   It is located towards the upper left of the plot, with data ponts scattered around both axes.\n",
    "-   It has higher SO2, population, and manufacturing values, suggesting that these could be densely populated urban areas with moderate industrialization and air pollution levels.\n",
    "\n",
    "#### 8.6 Cluster 6 (Blue):\n",
    "\n",
    "-   It is scattered in top right corner of the plot. With relatively high SO2, temperature, and precipitation values.\n",
    "-   It most likely represents hotter and more polluted areas, possibly liked with industrial activities producing higher SO2 emissions.\n",
    "\n",
    "#### 8.7 Cluster 7 (Purple):\n",
    "\n",
    "-   It is spread across the lower-left quadrant of the plot, showing distints patterns in Dim1 and Dim2.\n",
    "-   It has areas with lower SO2, temperature, and manufacturing, with moderate precipitation. These might be rural or less industrialized regions.\n",
    "\n",
    "#### 8.8 Cluster 8 (Pink)\n",
    "\n",
    "-   It it located towards the far right of the plot in the Dim1 positive area.\n",
    "-   It has the highest SO2, temperature, and manufacturing values. It's likely an extremely industrialized area with high levels of pollution.\n",
    "\n",
    "#### 8.9 Summary of the Clusters:\n",
    "\n",
    "-   Cluster 1: High SO2, manufacturing, population, but distinct from other clusters.\n",
    "-   Cluster 2: Moderate values across most features, indicating a mix of pollution and environmental factors.\n",
    "-   Cluster 3: Low pollution and manufacturing, with high environmental factors like precipitation.\n",
    "-   Cluster 4: Urban area with moderate manufacturing and SO2 levels.\n",
    "-   Cluster 5: Densely populated urban areas with high industrial activity.\n",
    "-   Cluster 6: Hotter and polluted areas with high precipitation.\n",
    "-   Cluster 7: Rural or less industrialized with low SO2, temperature, and manufacturing.\n",
    "-   Cluster 8: Highly industrialized area with high SO2 and temperature levels.\n"
   ]
  }
 ],
 "metadata": {
  "language_info": {
   "name": "python"
  }
 },
 "nbformat": 4,
 "nbformat_minor": 2
}
